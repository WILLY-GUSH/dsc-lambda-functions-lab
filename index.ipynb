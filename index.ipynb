{
 "cells": [
  {
   "cell_type": "markdown",
   "metadata": {},
   "source": [
    "# Lambda Functions - Lab\n",
    "\n",
    "## Introduction\n",
    "\n",
    "In this lab, you'll get some hands-on practice creating and using lambda functions.\n",
    "\n",
    "## Objectives\n",
    "\n",
    "In this lab you will:\n",
    "\n",
    "* Create lambda functions to use as arguments of other functions   \n",
    "* Use the `.map()` or `.apply()` method to apply a function to a pandas series or DataFrame"
   ]
  },
  {
   "cell_type": "markdown",
   "metadata": {},
   "source": [
    "## Lambda Functions"
   ]
  },
  {
   "cell_type": "code",
   "execution_count": 2,
   "metadata": {},
   "outputs": [
    {
     "data": {
      "text/html": [
       "<div>\n",
       "<style scoped>\n",
       "    .dataframe tbody tr th:only-of-type {\n",
       "        vertical-align: middle;\n",
       "    }\n",
       "\n",
       "    .dataframe tbody tr th {\n",
       "        vertical-align: top;\n",
       "    }\n",
       "\n",
       "    .dataframe thead th {\n",
       "        text-align: right;\n",
       "    }\n",
       "</style>\n",
       "<table border=\"1\" class=\"dataframe\">\n",
       "  <thead>\n",
       "    <tr style=\"text-align: right;\">\n",
       "      <th></th>\n",
       "      <th>business_id</th>\n",
       "      <th>cool</th>\n",
       "      <th>date</th>\n",
       "      <th>funny</th>\n",
       "      <th>review_id</th>\n",
       "      <th>stars</th>\n",
       "      <th>text</th>\n",
       "      <th>useful</th>\n",
       "      <th>user_id</th>\n",
       "    </tr>\n",
       "  </thead>\n",
       "  <tbody>\n",
       "    <tr>\n",
       "      <th>1</th>\n",
       "      <td>pomGBqfbxcqPv14c3XH-ZQ</td>\n",
       "      <td>0</td>\n",
       "      <td>2012-11-13</td>\n",
       "      <td>0</td>\n",
       "      <td>dDl8zu1vWPdKGihJrwQbpw</td>\n",
       "      <td>5</td>\n",
       "      <td>I love this place! My fiance And I go here atl...</td>\n",
       "      <td>0</td>\n",
       "      <td>msQe1u7Z_XuqjGoqhB0J5g</td>\n",
       "    </tr>\n",
       "    <tr>\n",
       "      <th>2</th>\n",
       "      <td>jtQARsP6P-LbkyjbO1qNGg</td>\n",
       "      <td>1</td>\n",
       "      <td>2014-10-23</td>\n",
       "      <td>1</td>\n",
       "      <td>LZp4UX5zK3e-c5ZGSeo3kA</td>\n",
       "      <td>1</td>\n",
       "      <td>Terrible. Dry corn bread. Rib tips were all fa...</td>\n",
       "      <td>3</td>\n",
       "      <td>msQe1u7Z_XuqjGoqhB0J5g</td>\n",
       "    </tr>\n",
       "  </tbody>\n",
       "</table>\n",
       "</div>"
      ],
      "text/plain": [
       "              business_id  cool        date  funny               review_id  \\\n",
       "1  pomGBqfbxcqPv14c3XH-ZQ     0  2012-11-13      0  dDl8zu1vWPdKGihJrwQbpw   \n",
       "2  jtQARsP6P-LbkyjbO1qNGg     1  2014-10-23      1  LZp4UX5zK3e-c5ZGSeo3kA   \n",
       "\n",
       "   stars                                               text  useful  \\\n",
       "1      5  I love this place! My fiance And I go here atl...       0   \n",
       "2      1  Terrible. Dry corn bread. Rib tips were all fa...       3   \n",
       "\n",
       "                  user_id  \n",
       "1  msQe1u7Z_XuqjGoqhB0J5g  \n",
       "2  msQe1u7Z_XuqjGoqhB0J5g  "
      ]
     },
     "execution_count": 2,
     "metadata": {},
     "output_type": "execute_result"
    }
   ],
   "source": [
    "import pandas as pd\n",
    "df = pd.read_csv('Yelp_Reviews.csv', index_col=0)\n",
    "df.head(2)"
   ]
  },
  {
   "cell_type": "markdown",
   "metadata": {},
   "source": [
    "## Simple arithmetic\n",
    "\n",
    "Use a lambda function to create a new column called `'stars_squared'` by squaring the stars column."
   ]
  },
  {
   "cell_type": "code",
   "execution_count": 3,
   "metadata": {},
   "outputs": [],
   "source": [
    "# Your code here\n",
    "df['stars_squared'] = df['stars'].apply(lambda x: x**2)\n"
   ]
  },
  {
   "cell_type": "markdown",
   "metadata": {},
   "source": [
    "## Dates\n",
    "Select the month from the date string using a lambda function."
   ]
  },
  {
   "cell_type": "code",
   "execution_count": 4,
   "metadata": {},
   "outputs": [],
   "source": [
    "# Your code here\n",
    "df['month'] = df['date'].apply(lambda x: x.split('-')[1])\n"
   ]
  },
  {
   "cell_type": "markdown",
   "metadata": {},
   "source": [
    "## What is the average number of words for a yelp review?\n",
    "Do this with a single line of code."
   ]
  },
  {
   "cell_type": "code",
   "execution_count": 5,
   "metadata": {},
   "outputs": [
    {
     "name": "stdout",
     "output_type": "stream",
     "text": [
      "Average number of words per review: 1.0\n"
     ]
    }
   ],
   "source": [
    "# Your code here\n",
    "average_words = df['review_id'].apply(lambda x: len(x.split())).mean()\n",
    "print(f\"Average number of words per review: {average_words}\")\n"
   ]
  },
  {
   "cell_type": "markdown",
   "metadata": {},
   "source": [
    "## Create a new column for the number of words in the review"
   ]
  },
  {
   "cell_type": "code",
   "execution_count": 21,
   "metadata": {},
   "outputs": [],
   "source": [
    "# Your code here\n",
    "df['num_words'] = df['review_id'].apply(lambda x: len(x.split()))\n"
   ]
  },
  {
   "cell_type": "markdown",
   "metadata": {},
   "source": [
    "## Rewrite the following as a lambda function\n",
    "\n",
    "Create a new column `'Review_Length'` by applying this lambda function to the `'Review_num_words'` column. "
   ]
  },
  {
   "cell_type": "code",
   "execution_count": 36,
   "metadata": {},
   "outputs": [
    {
     "name": "stdout",
     "output_type": "stream",
     "text": [
      "                 business_id  cool        date  funny               review_id  \\\n",
      "1     pomGBqfbxcqPv14c3XH-ZQ     0  2012-11-13      0  dDl8zu1vWPdKGihJrwQbpw   \n",
      "2     jtQARsP6P-LbkyjbO1qNGg     1  2014-10-23      1  LZp4UX5zK3e-c5ZGSeo3kA   \n",
      "4     Ums3gaP2qM3W1XcA5r6SsQ     0  2014-09-05      0  jsDu6QEJHbwP2Blom1PLCA   \n",
      "5     vgfcTvK81oD4r50NMjU2Ag     0  2011-02-25      0  pfavA0hr3nyqO61oupj-lA   \n",
      "10    yFumR3CWzpfvTH2FCthvVw     0  2016-06-15      0  STiFMww2z31siPY7BWNC2g   \n",
      "...                      ...   ...         ...    ...                     ...   \n",
      "689   BTcY04QFiS1uh-RpkR7rAg     1  2013-06-02      0  6_A58CCY8SHB7r-Wu7-A5g   \n",
      "4874  t0T_4MM4EUHbCzBTF11FHA     0  2016-08-14      0  KqQwNyfoFiJOw911mrULIg   \n",
      "564   5XYR6doRa5Nj1JMfSDei6A     1  2016-06-14      0  xlGJkxoIBl8XH8wVsPZpnw   \n",
      "3458  aLcFhMe6DDJ430zelCpd2A     0  2013-10-02      0  kwiEG_KCpDB6aK5fTSM7iw   \n",
      "4206  WdBWhGe4Siqg3IYTc4_K4A     0  2016-08-15      0  O0ttxNGxHKtD8Cnnwc_j1g   \n",
      "\n",
      "      stars                                               text  useful  \\\n",
      "1         5  I love this place! My fiance And I go here atl...       0   \n",
      "2         1  Terrible. Dry corn bread. Rib tips were all fa...       3   \n",
      "4         5  Delicious healthy food. The steak is amazing. ...       0   \n",
      "5         1  This place sucks. The customer service is horr...       2   \n",
      "10        5  I have been an Emerald Club member for a numbe...       0   \n",
      "...     ...                                                ...     ...   \n",
      "689       5  Came here with my 2 year old daughter for our ...       2   \n",
      "4874      5  Great little restaurant. Not to many tables an...       0   \n",
      "564       5  Always great friendly service and fresh baked ...       0   \n",
      "3458      2  We were expecting amazing Thai food after all ...       1   \n",
      "4206      1  Sunday at 8p. Not many people here at all. We ...       0   \n",
      "\n",
      "                     user_id  stars_squared month  num_words Review_length  \n",
      "1     msQe1u7Z_XuqjGoqhB0J5g             25    11          1         Short  \n",
      "2     msQe1u7Z_XuqjGoqhB0J5g              1    10          1         Short  \n",
      "4     msQe1u7Z_XuqjGoqhB0J5g             25    09          1         Short  \n",
      "5     msQe1u7Z_XuqjGoqhB0J5g              1    02          1         Short  \n",
      "10    TlvV-xJhmh7LCwJYXkV-cg             25    06          1         Short  \n",
      "...                      ...            ...   ...        ...           ...  \n",
      "689   q3AiAe-AcpDrNsdZf8nCvQ             25    06          1         Short  \n",
      "4874  NJxaA7q9BhqaDrFpfR2Jeg             25    08          1         Short  \n",
      "564   kBNFdviedCPFWyR-wVaAzw             25    06          1         Short  \n",
      "3458  PkRFSQgSfca9Tamq7b2LdQ              4    10          1         Short  \n",
      "4206  ic9zIsm7zoxUm3Axyegx8g              1    08          1         Short  \n",
      "\n",
      "[2610 rows x 13 columns]\n"
     ]
    }
   ],
   "source": [
    "# Rewrite the following function as a lambda function\n",
    "\"\"\"\n",
    "def rewrite_as_lambda(value):\n",
    "    if len(value) < 50:\n",
    "        return 'Short'\n",
    "    elif len(value) < 80:\n",
    "        return 'Medium'\n",
    "    else:\n",
    "        return 'Long'\n",
    "# Hint: nest your if, else conditionals\n",
    "\n",
    "df['Review_length'] = None\n",
    "\"\"\"\n",
    "df['Review_length'] = df['num_words'].apply(lambda value:'Short' if value < 50 else ('Medium' if value < 80 else 'Long' ))\n",
    "print(df)"
   ]
  },
  {
   "cell_type": "markdown",
   "metadata": {},
   "source": [
    "## Level Up: Dates Advanced\n",
    "<img src=\"images/world_map.png\" width=\"600\">  \n",
    "\n",
    "Print the first five rows of the `'date'` column. "
   ]
  },
  {
   "cell_type": "code",
   "execution_count": 23,
   "metadata": {},
   "outputs": [
    {
     "name": "stdout",
     "output_type": "stream",
     "text": [
      "1     2012-11-13\n",
      "2     2014-10-23\n",
      "4     2014-09-05\n",
      "5     2011-02-25\n",
      "10    2016-06-15\n",
      "Name: date, dtype: object\n"
     ]
    }
   ],
   "source": [
    "# Your code here\n",
    "print(df['date'].head(5))\n"
   ]
  },
  {
   "cell_type": "markdown",
   "metadata": {},
   "source": [
    "Overwrite the `'date'` column by reordering the month and day from `YYYY-MM-DD` to `DD-MM-YYYY`. Try to do this using a lambda function."
   ]
  },
  {
   "cell_type": "code",
   "execution_count": 39,
   "metadata": {},
   "outputs": [
    {
     "name": "stdout",
     "output_type": "stream",
     "text": [
      "                 business_id  cool        date  funny               review_id  \\\n",
      "1     pomGBqfbxcqPv14c3XH-ZQ     0  13-11-2012      0  dDl8zu1vWPdKGihJrwQbpw   \n",
      "2     jtQARsP6P-LbkyjbO1qNGg     1  23-10-2014      1  LZp4UX5zK3e-c5ZGSeo3kA   \n",
      "4     Ums3gaP2qM3W1XcA5r6SsQ     0  05-09-2014      0  jsDu6QEJHbwP2Blom1PLCA   \n",
      "5     vgfcTvK81oD4r50NMjU2Ag     0  25-02-2011      0  pfavA0hr3nyqO61oupj-lA   \n",
      "10    yFumR3CWzpfvTH2FCthvVw     0  15-06-2016      0  STiFMww2z31siPY7BWNC2g   \n",
      "...                      ...   ...         ...    ...                     ...   \n",
      "689   BTcY04QFiS1uh-RpkR7rAg     1  02-06-2013      0  6_A58CCY8SHB7r-Wu7-A5g   \n",
      "4874  t0T_4MM4EUHbCzBTF11FHA     0  14-08-2016      0  KqQwNyfoFiJOw911mrULIg   \n",
      "564   5XYR6doRa5Nj1JMfSDei6A     1  14-06-2016      0  xlGJkxoIBl8XH8wVsPZpnw   \n",
      "3458  aLcFhMe6DDJ430zelCpd2A     0  02-10-2013      0  kwiEG_KCpDB6aK5fTSM7iw   \n",
      "4206  WdBWhGe4Siqg3IYTc4_K4A     0  15-08-2016      0  O0ttxNGxHKtD8Cnnwc_j1g   \n",
      "\n",
      "      stars                                               text  useful  \\\n",
      "1         5  I love this place! My fiance And I go here atl...       0   \n",
      "2         1  Terrible. Dry corn bread. Rib tips were all fa...       3   \n",
      "4         5  Delicious healthy food. The steak is amazing. ...       0   \n",
      "5         1  This place sucks. The customer service is horr...       2   \n",
      "10        5  I have been an Emerald Club member for a numbe...       0   \n",
      "...     ...                                                ...     ...   \n",
      "689       5  Came here with my 2 year old daughter for our ...       2   \n",
      "4874      5  Great little restaurant. Not to many tables an...       0   \n",
      "564       5  Always great friendly service and fresh baked ...       0   \n",
      "3458      2  We were expecting amazing Thai food after all ...       1   \n",
      "4206      1  Sunday at 8p. Not many people here at all. We ...       0   \n",
      "\n",
      "                     user_id  stars_squared month  num_words Review_length  \n",
      "1     msQe1u7Z_XuqjGoqhB0J5g             25    11          1         Short  \n",
      "2     msQe1u7Z_XuqjGoqhB0J5g              1    10          1         Short  \n",
      "4     msQe1u7Z_XuqjGoqhB0J5g             25    09          1         Short  \n",
      "5     msQe1u7Z_XuqjGoqhB0J5g              1    02          1         Short  \n",
      "10    TlvV-xJhmh7LCwJYXkV-cg             25    06          1         Short  \n",
      "...                      ...            ...   ...        ...           ...  \n",
      "689   q3AiAe-AcpDrNsdZf8nCvQ             25    06          1         Short  \n",
      "4874  NJxaA7q9BhqaDrFpfR2Jeg             25    08          1         Short  \n",
      "564   kBNFdviedCPFWyR-wVaAzw             25    06          1         Short  \n",
      "3458  PkRFSQgSfca9Tamq7b2LdQ              4    10          1         Short  \n",
      "4206  ic9zIsm7zoxUm3Axyegx8g              1    08          1         Short  \n",
      "\n",
      "[2610 rows x 13 columns]\n"
     ]
    }
   ],
   "source": [
    "# Your code here\n",
    "df['date'] = df['date'].apply(lambda x: '-'.join(x.split('-')[::-1]))\n",
    "print(df)\n"
   ]
  },
  {
   "cell_type": "code",
   "execution_count": 40,
   "metadata": {},
   "outputs": [
    {
     "name": "stdout",
     "output_type": "stream",
     "text": [
      "Average number of words per review: 77.06551724137931\n",
      "1     2012-11-13\n",
      "2     2014-10-23\n",
      "4     2014-09-05\n",
      "5     2011-02-25\n",
      "10    2016-06-15\n",
      "Name: date, dtype: object\n",
      "               business_id  cool        date  funny               review_id  \\\n",
      "1   pomGBqfbxcqPv14c3XH-ZQ     0  13-11-2012      0  dDl8zu1vWPdKGihJrwQbpw   \n",
      "2   jtQARsP6P-LbkyjbO1qNGg     1  23-10-2014      1  LZp4UX5zK3e-c5ZGSeo3kA   \n",
      "4   Ums3gaP2qM3W1XcA5r6SsQ     0  05-09-2014      0  jsDu6QEJHbwP2Blom1PLCA   \n",
      "5   vgfcTvK81oD4r50NMjU2Ag     0  25-02-2011      0  pfavA0hr3nyqO61oupj-lA   \n",
      "10  yFumR3CWzpfvTH2FCthvVw     0  15-06-2016      0  STiFMww2z31siPY7BWNC2g   \n",
      "\n",
      "    stars                                               text  useful  \\\n",
      "1       5  I love this place! My fiance And I go here atl...       0   \n",
      "2       1  Terrible. Dry corn bread. Rib tips were all fa...       3   \n",
      "4       5  Delicious healthy food. The steak is amazing. ...       0   \n",
      "5       1  This place sucks. The customer service is horr...       2   \n",
      "10      5  I have been an Emerald Club member for a numbe...       0   \n",
      "\n",
      "                   user_id  stars_squared month  num_words Review_length  \n",
      "1   msQe1u7Z_XuqjGoqhB0J5g             25    11         58        Medium  \n",
      "2   msQe1u7Z_XuqjGoqhB0J5g              1    10         30         Short  \n",
      "4   msQe1u7Z_XuqjGoqhB0J5g             25    09         30         Short  \n",
      "5   msQe1u7Z_XuqjGoqhB0J5g              1    02         82          Long  \n",
      "10  TlvV-xJhmh7LCwJYXkV-cg             25    06         32         Short  \n"
     ]
    }
   ],
   "source": [
    "import pandas as pd\n",
    "\n",
    "# Load the data\n",
    "df = pd.read_csv('Yelp_Reviews.csv', index_col=0)\n",
    "\n",
    "# Create a new column 'stars_squared' by squaring the 'stars' column\n",
    "df['stars_squared'] = df['stars'].apply(lambda x: x**2)\n",
    "\n",
    "# Select the month from the 'date' column using a lambda function\n",
    "df['month'] = df['date'].apply(lambda x: x.split('-')[1])\n",
    "\n",
    "# Calculate the average number of words in the 'text' column\n",
    "average_words = df['text'].apply(lambda x: len(x.split())).mean()\n",
    "print(f\"Average number of words per review: {average_words}\")\n",
    "\n",
    "# Create a new column 'num_words' to count the number of words in each review\n",
    "df['num_words'] = df['text'].apply(lambda x: len(x.split()))\n",
    "\n",
    "# Rewrite the given function as a lambda function and apply it to create a new column 'Review_length'\n",
    "df['Review_length'] = df['num_words'].apply(lambda value: 'Short' if value < 50 else ('Medium' if value < 80 else 'Long'))\n",
    "\n",
    "# Print the first five rows of the 'date' column\n",
    "print(df['date'].head(5))\n",
    "\n",
    "# Overwrite the 'date' column by reordering the month and day from YYYY-MM-DD to DD-MM-YYYY\n",
    "df['date'] = df['date'].apply(lambda x: '-'.join(x.split('-')[::-1]))\n",
    "\n",
    "# Display the DataFrame to verify the results\n",
    "print(df.head())\n"
   ]
  },
  {
   "cell_type": "markdown",
   "metadata": {},
   "source": [
    "## Summary\n",
    "\n",
    "Hopefully, you're getting the hang of lambda functions now! It's important not to overuse them - it will often make more sense to define a function so that it's reusable elsewhere. But whenever you need to quickly apply some simple processing to a collection of data you have a new technique that will help you to do just that. It'll also be useful if you're reading someone else's code that happens to use lambdas."
   ]
  }
 ],
 "metadata": {
  "kernelspec": {
   "display_name": "Python (learn-env)",
   "language": "python",
   "name": "learn-env"
  },
  "language_info": {
   "codemirror_mode": {
    "name": "ipython",
    "version": 3
   },
   "file_extension": ".py",
   "mimetype": "text/x-python",
   "name": "python",
   "nbconvert_exporter": "python",
   "pygments_lexer": "ipython3",
   "version": "3.8.5"
  }
 },
 "nbformat": 4,
 "nbformat_minor": 2
}
